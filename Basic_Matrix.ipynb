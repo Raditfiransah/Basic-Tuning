{
 "cells": [
  {
   "cell_type": "markdown",
   "id": "bfa3b94a",
   "metadata": {},
   "source": [
    "## 💻Setup\n",
    "\n",
    "NumPy (atau Numerical Python) adalah pustaka Python yang memungkinkan kita melakukan operasi numerik pada array angka dengan Python. Modul aljabar linear NumPy, linalg, memungkinkan kita melakukan operasi pada matriks. Fungsi matrix_rank dalam modul ini menghitung rank dari sebuah matriks. Jalankan sel berikut untuk melihat demonstrasi cara kerjanya:\n"
   ]
  },
  {
   "cell_type": "markdown",
   "id": "1c712448",
   "metadata": {},
   "source": [
    "## 📚 Rank of a Matrix\n",
    "\n",
    "**Rank** dari sebuah matriks adalah jumlah maksimum baris atau kolom yang saling independen secara linear.  \n",
    "Artinya, rank ngasih tau seberapa banyak informasi unik yang ada di dalam matriks itu.\n",
    "\n",
    "- Rank tinggi = matriks lebih \"penuh\" informasi.\n",
    "- Rank rendah = matriks banyak redundansi / bisa dikompres.\n",
    "\n",
    "**Contoh:**\n",
    "- Matriks 3x3 dengan rank 3 → semua baris/kolom unik.\n",
    "- Matriks 3x3 dengan rank 1 → semua baris/kolom saling kelipatan.\n",
    "\n",
    "Rank ini penting banget, apalagi buat LoRA/QLoRA, karena teknik itu ngegunain **low-rank approximations** buat ngehemat memori dan komputasi.\n",
    "\n"
   ]
  },
  {
   "cell_type": "code",
   "execution_count": 1,
   "id": "ed5ed0ed",
   "metadata": {},
   "outputs": [
    {
     "name": "stdout",
     "output_type": "stream",
     "text": [
      "Rank of A:\n",
      "2\n"
     ]
    }
   ],
   "source": [
    "import numpy as np\n",
    "A = np.array([[1, 3, 2],\n",
    "              [4, 0, 8],\n",
    "              [5, 7, 10]])\n",
    "print(\"Rank of A:\") \n",
    "print(np.linalg.matrix_rank(A))"
   ]
  },
  {
   "cell_type": "markdown",
   "id": "93e9f71b",
   "metadata": {},
   "source": [
    "## Soal Rank of a matrix\n",
    "Hitung rank (pangkat) dari matriks B dan C di bawah ini, terus simpen hasilnya ke dalam variabel rank_B dan rank_C. Setelah itu, print hasilnya biar bisa dibandingin sama nilai yang seharusnya di diagram di atas."
   ]
  },
  {
   "cell_type": "code",
   "execution_count": 13,
   "id": "beaadb8e",
   "metadata": {},
   "outputs": [
    {
     "name": "stdout",
     "output_type": "stream",
     "text": [
      "Rank of B:\n",
      "1\n",
      "Rank of C:\n",
      "2\n"
     ]
    }
   ],
   "source": [
    "B = [[3,1,0],\n",
    "    [15,5,0],\n",
    "    [12,4,0]]\n",
    "\n",
    "C = [[5,3,1],\n",
    "    [1,5,9],\n",
    "    [4,3,2]]\n",
    "\n",
    "### YOUR SOLUTION HERE ###\n",
    "\n",
    "print(\"Rank of B:\") \n",
    "rank_B = np.linalg.matrix_rank(B)\n",
    "print(rank_B)\n",
    "print(\"Rank of C:\") \n",
    "rank_C = np.linalg.matrix_rank(C)\n",
    "print(rank_C)\n",
    "#print(rank_B, rank_C)"
   ]
  },
  {
   "cell_type": "markdown",
   "id": "dcfec884",
   "metadata": {},
   "source": [
    "## Matrix decomposition \n",
    "\n",
    "Sekarang kita bakal ngecek contoh matrix decomposition alias dekomposisi matriks. Di bawah ini ada tiga matriks: W, P, dan Q, yang semuanya punya rank 2.\n",
    "\n",
    "NumPy punya fitur keren buat ngali matriks pake simbol @. Contohnya, perkalian matriks B dan C di checkpoint sebelumnya ditulis kayak gini: B@C. Nah, kita bakal ngecek apakah P dan Q itu emang beneran hasil dekomposisi dari matriks W.\n",
    "\n",
    "Langkah-langkahnya:\n",
    "\n",
    "Bikin matriks S, hasil dari P dikali Q.\n",
    "\n",
    "Terus bikin matriks baru, difference_matrix, yaitu S dikurangin W.\n",
    "\n",
    "Print dua-duanya biar bisa dicek apakah S sama kayak W atau nggak."
   ]
  },
  {
   "cell_type": "code",
   "execution_count": 6,
   "id": "3fa2e4be",
   "metadata": {},
   "outputs": [
    {
     "name": "stdout",
     "output_type": "stream",
     "text": [
      "[[ 72  24   0]\n",
      " [108  36   0]\n",
      " [240  80   0]]\n"
     ]
    }
   ],
   "source": [
    "print(A@B)"
   ]
  },
  {
   "cell_type": "code",
   "execution_count": 12,
   "id": "c700b6bc",
   "metadata": {},
   "outputs": [
    {
     "name": "stdout",
     "output_type": "stream",
     "text": [
      "Rank of W: 2\n",
      "Rank of P: 2\n",
      "Rank of Q: 2\n",
      "[[ 5  6 -3  8  9]\n",
      " [ 0  0  0  0  0]\n",
      " [ 2  2 -1  3  3]\n",
      " [-5  0  0 -5  0]\n",
      " [ 0  4 -2  2  6]]\n",
      "[[0 0 0 0 0]\n",
      " [0 0 0 0 0]\n",
      " [0 0 0 0 0]\n",
      " [0 0 0 0 0]\n",
      " [0 0 0 0 0]]\n"
     ]
    }
   ],
   "source": [
    "W = np.array([[ 5,  6, -3,  8,  9],\n",
    "       [ 0,  0,  0,  0,  0],\n",
    "       [ 2,  2, -1,  3,  3],\n",
    "       [-5,  0,  0, -5,  0],\n",
    "       [ 0,  4, -2,  2,  6]])\n",
    "\n",
    "\n",
    "\n",
    "P = np.array([[3,1],\n",
    "              [0,0],\n",
    "              [1,0],\n",
    "              [0,5],\n",
    "              [2,4]])\n",
    "\n",
    "Q = np.array([[2,2,-1,3,3],\n",
    "              [-1,0,0,-1,0]])\n",
    "\n",
    "\n",
    "print(\"Rank of W:\", np.linalg.matrix_rank(W))\n",
    "print(\"Rank of P:\", np.linalg.matrix_rank(P))\n",
    "print(\"Rank of Q:\", np.linalg.matrix_rank(Q))\n",
    "\n",
    "### YOUR SOLUTION HERE ##\n",
    "S = P@Q\n",
    "difference_matrix = W - S\n",
    "print(S)\n",
    "print(difference_matrix)\n",
    "\n",
    "#print(S)\n",
    "#print(difference_matrix)"
   ]
  },
  {
   "cell_type": "markdown",
   "id": "26ad6472",
   "metadata": {},
   "source": [
    "## Pengurangan Parameter\n",
    "\n",
    "Misalnya nih ya, anggap aja matriks W dari checkpoint sebelumnya itu adalah weight matrix (matriks bobot) di sebuah LLM (Large Language Model). (Emang agak ngaco sih anggapannya, soalnya LLM beneran tuh punya matriks gede banget sampe jutaan atau miliaran elemen – tapi kita ikutin aja skenarionya bentar 😂)\n",
    "\n",
    "Inget ya, jumlah parameter yang dilatih di neural network itu sama kayak jumlah elemen yang ada di weight matrix-nya. Nah buat ngecek itu, kita tinggal print bentuk (shape) dari matriks W, dan juga matriks hasil dekomposisinya, yaitu P dan Q."
   ]
  },
  {
   "cell_type": "code",
   "execution_count": 8,
   "id": "d6797838",
   "metadata": {},
   "outputs": [
    {
     "name": "stdout",
     "output_type": "stream",
     "text": [
      "(5, 5) (5, 2) (2, 5)\n"
     ]
    }
   ],
   "source": [
    "print (W.shape, P.shape, Q.shape)"
   ]
  },
  {
   "cell_type": "markdown",
   "id": "b52ee8d0",
   "metadata": {},
   "source": [
    "Jumlah parameter di matriks W itu:\n",
    "\n",
    "$$W_{\\text{params}} = 5*5 = 25$$\n",
    "\n",
    "Setelah didekomposisi, jumlah parameternya berubah jadi gabungan dari jumlah elemen di matriks P dan Q. Nah, sekarang hitung totalnya dan simpen hasilnya ke dalam variabel total_params_after_lora."
   ]
  },
  {
   "cell_type": "code",
   "execution_count": null,
   "id": "cc065d9b",
   "metadata": {},
   "outputs": [
    {
     "name": "stdout",
     "output_type": "stream",
     "text": [
      "Total parameters after LoRA: 20\n"
     ]
    },
    {
     "ename": "",
     "evalue": "",
     "output_type": "error",
     "traceback": [
      "\u001b[1;31mThe Kernel crashed while executing code in the current cell or a previous cell. \n",
      "\u001b[1;31mPlease review the code in the cell(s) to identify a possible cause of the failure. \n",
      "\u001b[1;31mClick <a href='https://aka.ms/vscodeJupyterKernelCrash'>here</a> for more info. \n",
      "\u001b[1;31mView Jupyter <a href='command:jupyter.viewOutput'>log</a> for further details."
     ]
    }
   ],
   "source": [
    "total_params_after_lora = P.shape[0] * P.shape[1] + Q.shape[0] * Q.shape[1]\n",
    "print(\"Total parameters after LoRA:\", total_params_after_lora)"
   ]
  },
  {
   "cell_type": "code",
   "execution_count": null,
   "id": "833ee608",
   "metadata": {},
   "outputs": [],
   "source": []
  }
 ],
 "metadata": {
  "kernelspec": {
   "display_name": "environment",
   "language": "python",
   "name": "python3"
  },
  "language_info": {
   "codemirror_mode": {
    "name": "ipython",
    "version": 3
   },
   "file_extension": ".py",
   "mimetype": "text/x-python",
   "name": "python",
   "nbconvert_exporter": "python",
   "pygments_lexer": "ipython3",
   "version": "3.12.9"
  }
 },
 "nbformat": 4,
 "nbformat_minor": 5
}
