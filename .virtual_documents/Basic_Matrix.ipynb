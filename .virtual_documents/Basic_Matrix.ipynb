





import numpy as np
A = np.array([[1, 3, 2],
              [4, 0, 8],
              [5, 7, 10]])
print("Rank of A:") 
print(np.linalg.matrix_rank(A))



