{
 "cells": [
  {
   "cell_type": "markdown",
   "id": "bfa3b94a",
   "metadata": {},
   "source": [
    "## 💻Setup\n",
    "\n",
    "NumPy (atau Numerical Python) adalah pustaka Python yang memungkinkan kita melakukan operasi numerik pada array angka dengan Python. Modul aljabar linear NumPy, linalg, memungkinkan kita melakukan operasi pada matriks. Fungsi matrix_rank dalam modul ini menghitung rank dari sebuah matriks. Jalankan sel berikut untuk melihat demonstrasi cara kerjanya:\n"
   ]
  },
  {
   "cell_type": "markdown",
   "id": "1c712448",
   "metadata": {},
   "source": [
    "## 📚 Rank of a Matrix\n",
    "\n",
    "**Rank** dari sebuah matriks adalah jumlah maksimum baris atau kolom yang saling independen secara linear.  \n",
    "Artinya, rank ngasih tau seberapa banyak informasi unik yang ada di dalam matriks itu.\n",
    "\n",
    "- Rank tinggi = matriks lebih \"penuh\" informasi.\n",
    "- Rank rendah = matriks banyak redundansi / bisa dikompres.\n",
    "\n",
    "**Contoh:**\n",
    "- Matriks 3x3 dengan rank 3 → semua baris/kolom unik.\n",
    "- Matriks 3x3 dengan rank 1 → semua baris/kolom saling kelipatan.\n",
    "\n",
    "Rank ini penting banget, apalagi buat LoRA/QLoRA, karena teknik itu ngegunain **low-rank approximations** buat ngehemat memori dan komputasi.\n",
    "\n"
   ]
  },
  {
   "cell_type": "code",
   "execution_count": null,
   "id": "ed5ed0ed",
   "metadata": {},
   "outputs": [],
   "source": [
    "import numpy as np\n",
    "A = np.array([[1, 3, 2],\n",
    "              [4, 0, 8],\n",
    "              [5, 7, 10]])\n",
    "print(\"Rank of A:\") \n",
    "print(np.linalg.matrix_rank(A))"
   ]
  },
  {
   "cell_type": "code",
   "execution_count": null,
   "id": "79ce0f1b",
   "metadata": {},
   "outputs": [],
   "source": []
  }
 ],
 "metadata": {
  "kernelspec": {
   "display_name": "Python 3",
   "language": "python",
   "name": "python3"
  },
  "language_info": {
   "name": "python",
   "version": "3.11.9"
  }
 },
 "nbformat": 4,
 "nbformat_minor": 5
}
